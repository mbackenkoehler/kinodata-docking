{
 "cells": [
  {
   "cell_type": "code",
   "execution_count": 1,
   "id": "17d3c8ff-c471-45ea-8669-c420808cbf4d",
   "metadata": {},
   "outputs": [],
   "source": [
    "from importlib import resources\n",
    "import sys\n",
    "import inspect\n",
    "from pathlib import Path\n",
    "import traceback\n",
    "import tempfile, os, shutil, time\n",
    "import signal\n",
    "\n",
    "from kinoml.core.ligands import Ligand\n",
    "from kinoml.core.proteins import Protein\n",
    "from kinoml.core.systems import ProteinLigandComplex\n",
    "from kinoml.features.complexes import (\n",
    "    MostSimilarPDBLigandFeaturizer,\n",
    "    OEDockingFeaturizer,\n",
    ")\n",
    "\n",
    "from rdkit import Chem\n",
    "import pandas as pd\n",
    "import requests as req\n",
    "from multiprocessing import Pool, cpu_count\n",
    "import tqdm\n",
    "import numpy as np\n",
    "import dask\n",
    "import dask.dataframe as dd\n",
    "from dask.distributed import LocalCluster, Client"
   ]
  },
  {
   "cell_type": "code",
   "execution_count": 2,
   "id": "0f8f91b4-1139-42e3-92dc-5b13a48a4264",
   "metadata": {},
   "outputs": [],
   "source": [
    "NPARTITION = 10\n",
    "TIMEOUT = 120  # in sec\n",
    "\n",
    "# directories\n",
    "HERE = Path(\".\").absolute()\n",
    "CACHE_DIR = HERE / \"docking_pipeline\"\n",
    "MOST_SIMILAR = CACHE_DIR / \"most_similar.csv\"\n",
    "KLIFS_DIR = CACHE_DIR / \"KLIFS\"\n",
    "KLIFS_MAP = CACHE_DIR / \"similar_klifs_structures.csv\"\n",
    "TEMP_DIR = CACHE_DIR / \"temporary\"\n",
    "DOCKING_DIR = CACHE_DIR / \"docking\""
   ]
  },
  {
   "cell_type": "code",
   "execution_count": 3,
   "id": "3ad5d673-00a2-410b-b929-85bb2d830425",
   "metadata": {},
   "outputs": [],
   "source": [
    "kinodata = pd.read_csv(\"data/activities-chembl31.csv\", index_col=0)"
   ]
  },
  {
   "cell_type": "code",
   "execution_count": 4,
   "id": "ab39e859-1fbf-42a2-b1cf-cb3a84614e0b",
   "metadata": {},
   "outputs": [],
   "source": [
    "kinodata = kinodata.head(5)"
   ]
  },
  {
   "cell_type": "markdown",
   "id": "77e6193e-1798-45c1-8686-31414a3a58fe",
   "metadata": {},
   "source": [
    "# Find most similar PDBs"
   ]
  },
  {
   "cell_type": "code",
   "execution_count": 5,
   "id": "6ed13d49-700d-4e8a-8c72-73d4b5e63ace",
   "metadata": {},
   "outputs": [],
   "source": [
    "def get_most_similar(ident, uniprot_id, ligand_smiles):\n",
    "    protein = Protein(uniprot_id=uniprot_id, toolkit=\"MDAnalysis\")\n",
    "    ligand = Ligand(smiles=ligand_smiles)\n",
    "    system = ProteinLigandComplex(components=[protein, ligand])\n",
    "\n",
    "    featurizer = MostSimilarPDBLigandFeaturizer(\n",
    "        similarity_metric=\"fingerprint\",\n",
    "        cache_dir=CACHE_DIR,\n",
    "    )\n",
    "\n",
    "    system = featurizer.featurize([system])[0]\n",
    "\n",
    "    ligand_id = system.protein.expo_id\n",
    "    pdb_id = system.protein.pdb_id\n",
    "    chain = system.protein.chain_id\n",
    "\n",
    "    with open(MOST_SIMILAR, \"a\") as f:\n",
    "        f.write(\",\".join(map(str, [ident, ligand_id, pdb_id, chain])) + \"\\n\")\n",
    "    return 1"
   ]
  },
  {
   "cell_type": "code",
   "execution_count": 6,
   "id": "2549fe87-f7c0-4238-8a36-caf3a2cd7b48",
   "metadata": {},
   "outputs": [],
   "source": [
    "with open(MOST_SIMILAR, \"w\") as f:\n",
    "    f.write(\n",
    "        \"activities.activity_id,similar.ligand_pdb,similar.complex_pdb,similar.chain\\n\"\n",
    "    )"
   ]
  },
  {
   "cell_type": "code",
   "execution_count": 7,
   "id": "854824c6-7a04-49c8-bf95-40f3a0cb131e",
   "metadata": {
    "tags": []
   },
   "outputs": [
    {
     "name": "stderr",
     "output_type": "stream",
     "text": [
      "Warning (not error because allow_undefined_stereo=True): OEMol has unspecified stereochemistry. oemol.GetTitle(): \n",
      "Problematic atoms are:\n",
      "Atom atomic num: 7, name: , idx: 30, aromatic: False, chiral: True with bonds:\n",
      "bond order: 1, chiral: False to atom atomic num: 6, name: , idx: 29, aromatic: False, chiral: False\n",
      "bond order: 1, chiral: False to atom atomic num: 6, name: , idx: 35, aromatic: False, chiral: False\n",
      "bond order: 1, chiral: False to atom atomic num: 6, name: , idx: 31, aromatic: False, chiral: False\n",
      "Atom atomic num: 6, name: , idx: 33, aromatic: False, chiral: True with bonds:\n",
      "bond order: 1, chiral: False to atom atomic num: 6, name: , idx: 32, aromatic: False, chiral: False\n",
      "bond order: 1, chiral: False to atom atomic num: 8, name: , idx: 34, aromatic: False, chiral: False\n",
      "bond order: 1, chiral: False to atom atomic num: 6, name: , idx: 35, aromatic: False, chiral: False\n",
      "bond order: 1, chiral: False to atom atomic num: 1, name: , idx: 67, aromatic: False, chiral: False\n",
      "\n",
      "Warning (not error because allow_undefined_stereo=True): OEMol has unspecified stereochemistry. oemol.GetTitle(): \n",
      "Problematic atoms are:\n",
      "Atom atomic num: 7, name: , idx: 30, aromatic: False, chiral: True with bonds:\n",
      "bond order: 1, chiral: False to atom atomic num: 6, name: , idx: 29, aromatic: False, chiral: False\n",
      "bond order: 1, chiral: False to atom atomic num: 6, name: , idx: 38, aromatic: False, chiral: False\n",
      "bond order: 1, chiral: False to atom atomic num: 6, name: , idx: 31, aromatic: False, chiral: False\n",
      "\n"
     ]
    }
   ],
   "source": [
    "similars = list()\n",
    "for _, row in kinodata.iterrows():\n",
    "    uniprot_id = row[\"UniprotID\"]\n",
    "    ligand_smiles = row[\"compound_structures.canonical_smiles\"]\n",
    "    ident = row[\"activities.activity_id\"]\n",
    "\n",
    "    # most similar PDB\n",
    "    similars.append(get_most_similar(ident, uniprot_id, ligand_smiles))"
   ]
  },
  {
   "cell_type": "markdown",
   "id": "26fc0021-e8fe-490d-9569-2bec8b3d114b",
   "metadata": {},
   "source": [
    "# Download KLIFS structures"
   ]
  },
  {
   "cell_type": "code",
   "execution_count": 8,
   "id": "ecd8c9e0-f910-4ae2-999a-2c4ec299a97e",
   "metadata": {},
   "outputs": [],
   "source": [
    "ms = pd.read_csv(MOST_SIMILAR)"
   ]
  },
  {
   "cell_type": "code",
   "execution_count": 9,
   "id": "65f03cc0-a8ef-4bd3-a3e9-153d766be00c",
   "metadata": {},
   "outputs": [],
   "source": [
    "kinodata = ms.merge(kinodata, how=\"inner\", on=\"activities.activity_id\")"
   ]
  },
  {
   "cell_type": "code",
   "execution_count": 10,
   "id": "7e733597-0c9f-412e-89b7-ce6141ed5838",
   "metadata": {},
   "outputs": [],
   "source": [
    "# kinodata = dd.from_pandas(kinodata, npartitions=NPARTITION)"
   ]
  },
  {
   "cell_type": "code",
   "execution_count": 11,
   "id": "7b4bc257-6cf9-467d-bb5c-1c0c0efee3eb",
   "metadata": {},
   "outputs": [],
   "source": [
    "def klifs_pdb(\n",
    "    ident,\n",
    "    pdb_id: str,\n",
    "    chain: str,\n",
    "    ligand_id: str,\n",
    "    output_path=Path(\".\").absolute(),\n",
    "    lazy: bool = False,\n",
    "):\n",
    "    \"\"\"\n",
    "    Get the complex PDB from KLIFS.\n",
    "\n",
    "    Parameters\n",
    "    ----------\n",
    "    pdb_id: str\n",
    "        PDB ID.\n",
    "    chain: str\n",
    "        the chain.\n",
    "    ligand_id: str\n",
    "        ligand PDB ID\n",
    "    path: Path, optional\n",
    "        folder to store the structure in.\n",
    "\n",
    "    Returns\n",
    "    -------\n",
    "    file_path: Path\n",
    "        path of the PDB file.\n",
    "    \"\"\"\n",
    "    resp = req.get(\n",
    "        \"https://klifs.net/api_v2/structures_pdb_list\", {\"pdb-codes\": pdb_id}\n",
    "    )\n",
    "    klifs_info = None\n",
    "    resp.raise_for_status()\n",
    "    for info in resp.json():\n",
    "        if (\n",
    "            str(info[\"chain\"]).upper() == str(chain).upper()\n",
    "            and str(info[\"ligand\"]).upper() == str(ligand_id).upper()\n",
    "        ):\n",
    "            if klifs_info is None:\n",
    "                klifs_info = info\n",
    "            elif klifs_info[\"quality_score\"] < info[\"quality_score\"]:\n",
    "                klifs_info = info\n",
    "    if klifs_info is None:\n",
    "        raise ValueError(f\"not found pdb:{pdb_id} chain:{chain} lig_pdb:{ligand_id}\")\n",
    "    structure_ID = klifs_info[\"structure_ID\"]\n",
    "    output_path.mkdir(exist_ok=True)\n",
    "    filename = output_path / f\"{structure_ID}.pdb\"\n",
    "    if not lazy or not filename.exists():\n",
    "        resp = req.get(\n",
    "            \"https://klifs.net/api_v2/structure_get_pdb_complex\",\n",
    "            {\"structure_ID\": structure_ID},\n",
    "        )\n",
    "\n",
    "    with open(filename, \"w\") as f:\n",
    "        f.write(resp.text)\n",
    "\n",
    "    with open(KLIFS_MAP, \"a\") as f:\n",
    "        f.write(f\"{ident},{structure_ID}\\n\")\n",
    "\n",
    "    return 0"
   ]
  },
  {
   "cell_type": "code",
   "execution_count": 12,
   "id": "803bedf1-993d-419f-a24b-77086dfb1eb0",
   "metadata": {},
   "outputs": [],
   "source": [
    "with open(KLIFS_MAP, \"w\") as f:\n",
    "    f.write(\"activities.activity_id,similar.klifs_structure_id\\n\")"
   ]
  },
  {
   "cell_type": "code",
   "execution_count": 13,
   "id": "97abcf91-e151-44b3-8b9d-13cf32b7dccc",
   "metadata": {},
   "outputs": [],
   "source": [
    "jobs = list()\n",
    "for _, row in kinodata.iterrows():\n",
    "    pdb_id = row[\"similar.complex_pdb\"]\n",
    "    ligand_pdb = row[\"similar.ligand_pdb\"]\n",
    "    chain = row[\"similar.chain\"]\n",
    "    ident = row[\"activities.activity_id\"]\n",
    "    jobs.append(\n",
    "        klifs_pdb(ident, pdb_id, chain, ligand_pdb, output_path=KLIFS_DIR, lazy=False)\n",
    "    )"
   ]
  },
  {
   "cell_type": "markdown",
   "id": "263ab9c1-0d13-4f2e-8285-18702ffe3d6b",
   "metadata": {},
   "source": [
    "# OpenEye Template docking"
   ]
  },
  {
   "cell_type": "code",
   "execution_count": 14,
   "id": "74da0ad9-4ffa-45dd-be4c-ff69f7216b9b",
   "metadata": {},
   "outputs": [],
   "source": [
    "klifs_map = pd.read_csv(KLIFS_MAP)\n",
    "kinodata = klifs_map.merge(kinodata, how=\"inner\", on=\"activities.activity_id\")"
   ]
  },
  {
   "cell_type": "code",
   "execution_count": 15,
   "id": "0d2cee6a-c3ec-4bc9-a8d3-edde669a21c1",
   "metadata": {},
   "outputs": [],
   "source": [
    "class temporary_copy(object):\n",
    "    def __init__(self, original_path):\n",
    "        self.original_path = original_path\n",
    "\n",
    "    def __enter__(self):\n",
    "        temp_dir = tempfile.gettempdir()\n",
    "        base_path = os.path.basename(self.original_path)\n",
    "        self.path = os.path.join(temp_dir, base_path)\n",
    "        shutil.copy2(self.original_path, self.path)\n",
    "        return self.path\n",
    "\n",
    "    def __exit__(self, exc_type, exc_val, exc_tb):\n",
    "        os.remove(self.path)"
   ]
  },
  {
   "cell_type": "code",
   "execution_count": 16,
   "id": "722047c2-fa5e-481f-aed2-b3df47eee582",
   "metadata": {},
   "outputs": [],
   "source": [
    "def handler(signum, frame):\n",
    "    print(\"Stop it already!\")\n",
    "    raise Exception(\"timeout\")"
   ]
  },
  {
   "cell_type": "code",
   "execution_count": 17,
   "id": "901e18b8-5ccc-4f53-805f-a583e7762ed2",
   "metadata": {},
   "outputs": [],
   "source": [
    "# @dask.delayed\n",
    "def posit(ident, pdb_filepath, ligand_smiles, output_dir):\n",
    "    print(pdb_filepath)\n",
    "    protein = Protein.from_file(pdb_filepath)\n",
    "    ligand = Ligand(smiles=ligand_smiles)\n",
    "    system = ProteinLigandComplex(components=[protein, ligand])\n",
    "    featurizer = OEDockingFeaturizer(\n",
    "        output_dir=output_dir, method=\"Posit\", use_multiprocessing=False\n",
    "    )\n",
    "\n",
    "    signal.signal(signal.SIGALRM, handler)\n",
    "    signal.alarm(TIMEOUT)\n",
    "    try:\n",
    "        system = featurizer.featurize([system])[0]\n",
    "    except Exception as exc:\n",
    "        print(exc)\n",
    "        return 1\n",
    "\n",
    "    print(\"write result\")\n",
    "    universe = system.featurizations[\"last\"]\n",
    "    docking_score = universe._topology.docking_score\n",
    "    posit_probability = universe._topology.posit_probability\n",
    "\n",
    "    print(\"write\", output_dir / f\"{activity_id}_complex.pdb\")\n",
    "    with mda.coordinates.PDB.PDBWriter(output_dir / f\"{activity_id}_complex.pdb\") as w:\n",
    "        w.write(universe)\n",
    "    with mda.coordinates.PDB.PDBWriter(output_dir / f\"{activity_id}_ligand.pdb\") as w:\n",
    "        w.write(universe.select_atoms(\"resname LIG\"))\n",
    "\n",
    "    with open(output_dir / \"docking.csv\", \"a\") as f:\n",
    "        f.write(\n",
    "            \",\".join(\n",
    "                list(map(str, [ident, docking_score, posit_probability, duration]))\n",
    "            )\n",
    "            + \"\\n\"\n",
    "        )\n",
    "    return 0"
   ]
  },
  {
   "cell_type": "code",
   "execution_count": null,
   "id": "19699d70-4581-4bcc-9ace-1a7b85c0840b",
   "metadata": {},
   "outputs": [
    {
     "name": "stdout",
     "output_type": "stream",
     "text": [
      "/home/michael/Code/kinodata-docking/docking_pipeline/KLIFS/12757.pdb\n"
     ]
    },
    {
     "data": {
      "application/vnd.jupyter.widget-view+json": {
       "model_id": "275baab61e284af9a23b4d3492434d49",
       "version_major": 2,
       "version_minor": 0
      },
      "text/plain": [
       "OEDockingFeaturizer:   0%|          | 0/1 [00:00<?, ?it/s]"
      ]
     },
     "metadata": {},
     "output_type": "display_data"
    },
    {
     "name": "stderr",
     "output_type": "stream",
     "text": [
      "Warning (not error because allow_undefined_stereo=True): OEMol has unspecified stereochemistry. oemol.GetTitle(): \n",
      "Problematic atoms are:\n",
      "Atom atomic num: 7, name: , idx: 30, aromatic: False, chiral: True with bonds:\n",
      "bond order: 1, chiral: False to atom atomic num: 6, name: , idx: 29, aromatic: False, chiral: False\n",
      "bond order: 1, chiral: False to atom atomic num: 6, name: , idx: 35, aromatic: False, chiral: False\n",
      "bond order: 1, chiral: False to atom atomic num: 6, name: , idx: 31, aromatic: False, chiral: False\n",
      "Atom atomic num: 6, name: , idx: 33, aromatic: False, chiral: True with bonds:\n",
      "bond order: 1, chiral: False to atom atomic num: 6, name: , idx: 32, aromatic: False, chiral: False\n",
      "bond order: 1, chiral: False to atom atomic num: 8, name: , idx: 34, aromatic: False, chiral: False\n",
      "bond order: 1, chiral: False to atom atomic num: 6, name: , idx: 35, aromatic: False, chiral: False\n",
      "bond order: 1, chiral: False to atom atomic num: 1, name: , idx: 67, aromatic: False, chiral: False\n",
      "\n"
     ]
    }
   ],
   "source": [
    "jobs = list()\n",
    "for _, row in kinodata.iterrows():\n",
    "    ident = row[\"activities.activity_id\"]\n",
    "    pdb_filepath = KLIFS_DIR / (str(row[\"similar.klifs_structure_id\"]) + \".pdb\")\n",
    "    ligand_smiles = row[\"compound_structures.canonical_smiles\"]\n",
    "    jobs.append(posit(ident, pdb_filepath, ligand_smiles, DOCKING_DIR))"
   ]
  },
  {
   "cell_type": "code",
   "execution_count": null,
   "id": "aed988fb-de45-4873-9758-a8a6700db405",
   "metadata": {},
   "outputs": [],
   "source": []
  }
 ],
 "metadata": {
  "kernelspec": {
   "display_name": "Python 3 (ipykernel)",
   "language": "python",
   "name": "python3"
  },
  "language_info": {
   "codemirror_mode": {
    "name": "ipython",
    "version": 3
   },
   "file_extension": ".py",
   "mimetype": "text/x-python",
   "name": "python",
   "nbconvert_exporter": "python",
   "pygments_lexer": "ipython3",
   "version": "3.9.13"
  }
 },
 "nbformat": 4,
 "nbformat_minor": 5
}
